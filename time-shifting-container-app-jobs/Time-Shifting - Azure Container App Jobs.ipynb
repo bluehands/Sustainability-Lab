{
 "cells": [
  {
   "attachments": {},
   "cell_type": "markdown",
   "metadata": {},
   "source": [
    "# Sustinable Azure - Time-Shifting\n",
    "\n",
    "This interactive notebook will guide you how to use Azure Container App Job to schedule task with carbon awareness in mind.\n",
    "\n",
    "## How-To start\n",
    "\n",
    "* Ensure you have a Container App Job."
   ]
  },
  {
   "attachments": {},
   "cell_type": "markdown",
   "metadata": {},
   "source": [
    "## Job configuration\n",
    "\n",
    "You may start with a job and a cron configured"
   ]
  },
  {
   "attachments": {},
   "cell_type": "markdown",
   "metadata": {},
   "source": [
    "# Install modules"
   ]
  },
  {
   "cell_type": "code",
   "execution_count": null,
   "metadata": {
    "dotnet_interactive": {
     "language": "pwsh"
    },
    "polyglot_notebook": {
     "kernelName": "pwsh"
    }
   },
   "outputs": [],
   "source": [
    "# Install-Module -Name az -Verbose\n",
    "# Install-Module -Name Az.App\n",
    "# Install-module -Name CarbonAwareComputing.Cmdlets"
   ]
  },
  {
   "attachments": {},
   "cell_type": "markdown",
   "metadata": {},
   "source": [
    "# Load account settings from file & initialize"
   ]
  },
  {
   "cell_type": "code",
   "execution_count": null,
   "metadata": {
    "dotnet_interactive": {
     "language": "pwsh"
    }
   },
   "outputs": [],
   "source": [
    "$CurrentDir = Get-Location\n",
    "$SettingsFile = \"AccountSettings - Container App Jobs.json\"\n",
    "\n",
    "$AccountSettingsFile = Join-Path -Path $CurrentDir -ChildPath $SettingsFile\n",
    "if (-not (Test-Path $AccountSettingsFile))\n",
    "{\n",
    "    Copy-Item \"$AccountSettingsFile.example\" $AccountSettingsFile -ErrorAction 'Stop'\n",
    "}\n",
    "\n",
    "$Settings = Get-Content $AccountSettingsFile | ConvertFrom-Json\n",
    "$TenantId = $Settings.TenantId\n",
    "$AccountId = $Settings.AccountId\n",
    "$SubscriptionId = $Settings.SubscriptionId\n",
    "$ExecutionLocation = $Settings.ExecutionLocation\n",
    "\n",
    "$ResourceGroupName = $Settings.ResourceGroupName\n",
    "$JobName = $Settings.JobName "
   ]
  },
  {
   "attachments": {},
   "cell_type": "markdown",
   "metadata": {},
   "source": [
    "## Connect Azure"
   ]
  },
  {
   "cell_type": "code",
   "execution_count": null,
   "metadata": {
    "dotnet_interactive": {
     "language": "pwsh"
    },
    "polyglot_notebook": {
     "kernelName": "pwsh"
    }
   },
   "outputs": [],
   "source": [
    "Connect-AzAccount -DeviceCode -Tenant $TenantId -Subscription $SubscriptionId \n",
    "#Connect-AzAccount -Tenant $TenantId -AccountId $AccountId -Subscription $SubscriptionId\n",
    "Set-AzContext -SubscriptionId $SubscriptionId"
   ]
  },
  {
   "attachments": {},
   "cell_type": "markdown",
   "metadata": {},
   "source": [
    "## Get the forecast for best execution time"
   ]
  },
  {
   "cell_type": "code",
   "execution_count": null,
   "metadata": {
    "dotnet_interactive": {
     "language": "pwsh"
    },
    "polyglot_notebook": {
     "kernelName": "pwsh"
    }
   },
   "outputs": [],
   "source": [
    "$now = Get-Date\n",
    "$JobExecutionTime = Get-CarbonAwareExecutionTime -Location $ExecutionLocation -EarliestExecutionTime $now -LatestExecutionTime ($now).AddHours(10) -EstimatedExecutionDuration \"00:20:00\" -FallbackExecutionTime $now.AddMinutes(5)\n",
    "$JobExecutionTime = $JobExecutionTime.AddMinutes(5) \n",
    "Write-Host \"Best execution time for $ExecutionLocation is $JobExecutionTime\""
   ]
  },
  {
   "cell_type": "code",
   "execution_count": null,
   "metadata": {
    "dotnet_interactive": {
     "language": "pwsh"
    },
    "polyglot_notebook": {
     "kernelName": "pwsh"
    }
   },
   "outputs": [],
   "source": [
    "$cronExpression = \"$($JobExecutionTime.Minute) $($JobExecutionTime.Hour) $($JobExecutionTime.Day) $($JobExecutionTime.Month) *\"\n",
    "$job = Get-AzContainerAppJob -Name $JobName -ResourceGroupName $ResourceGroupName -SubscriptionId $SubscriptionId\n",
    "Update-AzContainerAppJob -Name $JobName -ResourceGroupName $ResourceGroupName -SubscriptionId $SubscriptionId `\n",
    "    -ScheduleTriggerConfigCronExpression $cronExpression `\n",
    "    -ConfigurationReplicaTimeout $job.ConfigurationReplicaTimeout\n"
   ]
  }
 ],
 "metadata": {
  "kernelspec": {
   "display_name": ".NET (C#)",
   "language": "C#",
   "name": ".net-csharp"
  },
  "language_info": {
   "name": "polyglot-notebook"
  },
  "polyglot_notebook": {
   "kernelInfo": {
    "defaultKernelName": "csharp",
    "items": [
     {
      "aliases": [
       "C#",
       "c#"
      ],
      "languageName": "C#",
      "name": "csharp"
     },
     {
      "aliases": [
       "js"
      ],
      "languageName": "JavaScript",
      "name": "javascript"
     },
     {
      "aliases": [
       "frontend"
      ],
      "name": "vscode"
     },
     {
      "aliases": [],
      "name": "webview"
     }
    ]
   }
  }
 },
 "nbformat": 4,
 "nbformat_minor": 2
}
