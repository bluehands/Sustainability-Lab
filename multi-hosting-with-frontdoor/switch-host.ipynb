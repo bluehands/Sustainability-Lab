{
 "cells": [
  {
   "attachments": {},
   "cell_type": "markdown",
   "metadata": {},
   "source": [
    "# Sustinable Azure - Multi hosting with frondoor\n",
    "\n",
    "This interactive notebook will guide you how to use Azure Front Door to switch hosting.\n",
    "\n",
    "## How-To start\n",
    "\n",
    "* Configure a Front Door (Classic) with a Back-End-Pool.\n",
    "* The Back-End-Pool contains two aquivalent services with different hosting types\n",
    "  * Azure App Service\n",
    "  * Azure Function with consumption plan"
   ]
  },
  {
   "attachments": {},
   "cell_type": "markdown",
   "metadata": {},
   "source": [
    "# Install modules"
   ]
  },
  {
   "cell_type": "code",
   "execution_count": null,
   "metadata": {
    "dotnet_interactive": {
     "language": "pwsh"
    },
    "polyglot_notebook": {
     "kernelName": "pwsh"
    }
   },
   "outputs": [],
   "source": [
    "# Install-Module -Name az -Verbose\n",
    "# Install-Module Az.FrontDoor\n",
    "# Install-Module Az.Websites\n",
    "# Install-Module Az.Functions\n",
    "# Install-Module Az.Cdn\n",
    "# Import-Module Az.Cdn"
   ]
  },
  {
   "attachments": {},
   "cell_type": "markdown",
   "metadata": {},
   "source": [
    "# Load account settings from file & initialize"
   ]
  },
  {
   "cell_type": "code",
   "execution_count": null,
   "metadata": {
    "dotnet_interactive": {
     "language": "pwsh"
    }
   },
   "outputs": [],
   "source": [
    "$CurrentDir = Get-Location\n",
    "$SettingsFile = \"AccountSettings.json\"\n",
    "\n",
    "$AccountSettingsFile = Join-Path -Path $CurrentDir -ChildPath $SettingsFile\n",
    "if (-not (Test-Path $AccountSettingsFile))\n",
    "{\n",
    "    Copy-Item \"$AccountSettingsFile.example\" $AccountSettingsFile -ErrorAction 'Stop'\n",
    "}\n",
    "\n",
    "$Settings = Get-Content $AccountSettingsFile | ConvertFrom-Json\n",
    "$TenantId = $Settings.TenantId\n",
    "$AccountId = $Settings.AccountId\n",
    "$SubscriptionId = $Settings.SubscriptionId\n",
    "$ResourceGroupName = $Settings.ResourceGroupName\n",
    "$FrontDoorName = $Settings.FrontDoorName\n",
    "$WebAppAddress = $Settings.WebAppAddress\n",
    "$FunctionAddress = $Settings.FunctionAddress\n",
    "$WebAppName = $Settings.WebAppName\n",
    "$FunctionName = $Settings.FunctionName\n"
   ]
  },
  {
   "attachments": {},
   "cell_type": "markdown",
   "metadata": {},
   "source": [
    "## Connect Azure"
   ]
  },
  {
   "cell_type": "code",
   "execution_count": null,
   "metadata": {
    "dotnet_interactive": {
     "language": "pwsh"
    },
    "polyglot_notebook": {
     "kernelName": "pwsh"
    }
   },
   "outputs": [],
   "source": [
    "az account set --subscription $SubscriptionId"
   ]
  },
  {
   "attachments": {},
   "cell_type": "markdown",
   "metadata": {},
   "source": [
    "## Scale Down\n",
    "\n",
    "We will deactivate the web app and activate the function app"
   ]
  },
  {
   "cell_type": "code",
   "execution_count": null,
   "metadata": {
    "dotnet_interactive": {
     "language": "pwsh"
    },
    "polyglot_notebook": {
     "kernelName": "pwsh"
    }
   },
   "outputs": [],
   "source": [
    "az functionapp Start --name $FunctionName --resource-group $ResourceGroupName\n",
    "\n",
    "az afd origin update --name functionapp --enabled-state Enabled --host-name dynamichostingfunctionapp.azurewebsites.net --resource-group sustainability-lab-azure --profile-name sustainable-azure-multi-hosting --origin-group-name default\n",
    "az afd origin update --name webapp --enabled-state Disabled --host-name dynamichostingwebapp.azurewebsites.net --resource-group sustainability-lab-azure --profile-name sustainable-azure-multi-hosting --origin-group-name default\n",
    "az afd origin list --resource-group sustainability-lab-azure --profile-name sustainable-azure-multi-hosting --origin-group-name default\n",
    "\n",
    "# Wait\n",
    "\n",
    "az webapp stop --name $WebAppName --resource-group $ResourceGroupName"
   ]
  },
  {
   "attachments": {},
   "cell_type": "markdown",
   "metadata": {},
   "source": [
    "## Scale Up\n",
    "\n",
    "We will deactivate the function app and activate the web app"
   ]
  },
  {
   "cell_type": "code",
   "execution_count": null,
   "metadata": {
    "dotnet_interactive": {
     "language": "pwsh"
    },
    "polyglot_notebook": {
     "kernelName": "pwsh"
    }
   },
   "outputs": [],
   "source": [
    "az webapp start --name $WebAppName --resource-group $ResourceGroupName\n",
    "\n",
    "az afd origin update --name webapp --enabled-state Enabled --host-name dynamichostingwebapp.azurewebsites.net --resource-group sustainability-lab-azure --profile-name sustainable-azure-multi-hosting --origin-group-name default\n",
    "az afd origin update --name functionapp --enabled-state Disabled --host-name dynamichostingfunctionapp.azurewebsites.net --resource-group sustainability-lab-azure --profile-name sustainable-azure-multi-hosting --origin-group-name default\n",
    "az afd origin list --resource-group sustainability-lab-azure --profile-name sustainable-azure-multi-hosting --origin-group-name default\n",
    "\n",
    "# Wait\n",
    "\n",
    "az functionapp Stop --name $FunctionName --resource-group $ResourceGroupName"
   ]
  }
 ],
 "metadata": {
  "kernelspec": {
   "display_name": ".NET (C#)",
   "language": "C#",
   "name": ".net-csharp"
  },
  "language_info": {
   "name": "polyglot-notebook"
  },
  "polyglot_notebook": {
   "kernelInfo": {
    "defaultKernelName": "csharp",
    "items": [
     {
      "aliases": [
       "C#",
       "c#"
      ],
      "languageName": "C#",
      "name": "csharp"
     },
     {
      "aliases": [
       "js"
      ],
      "languageName": "JavaScript",
      "name": "javascript"
     },
     {
      "aliases": [
       "frontend"
      ],
      "name": "vscode"
     },
     {
      "aliases": [],
      "name": "webview"
     }
    ]
   }
  }
 },
 "nbformat": 4,
 "nbformat_minor": 2
}
